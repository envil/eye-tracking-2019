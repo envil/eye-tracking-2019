{
 "cells": [
  {
   "cell_type": "code",
   "execution_count": 1,
   "metadata": {
    "collapsed": true
   },
   "outputs": [],
   "source": [
    "import matplotlib.pyplot as plt\n",
    "\n",
    "X1 = [320, 350]\n",
    "Y1 = [315, 335]\n",
    "X2 = [300, 340]\n",
    "Y2 = [315, 330]\n",
    "\n",
    "plt.scatter(X1, Y1)\n",
    "plt.scatter(X2, Y2, c='r')\n",
    "plt.show()"
   ]
  },
  {
   "cell_type": "code",
   "execution_count": 12,
   "metadata": {},
   "outputs": [
    {
     "name": "stdout",
     "output_type": "stream",
     "text": [
      "479\n"
     ]
    }
   ],
   "source": [
    "import math\n",
    "import json\n",
    "from collections import namedtuple\n",
    "\n",
    "# Credit to gmb zre 11/1/07, ported to python by Viet Ta\n",
    "def angle2pix(display, ang):\n",
    "    pix_size = display.size / display.resolution.X  # cm/pix\n",
    "    sz = 2 * display.distance * math.tan(math.radians(ang / 2))  # cm\n",
    "    return round(sz / pix_size)\n",
    "\n",
    "\n",
    "file_path = './mics/config.json'\n",
    "with open(file_path, 'r') as f:\n",
    "    config = json.load(f, object_hook=lambda d: namedtuple('X', d.keys())(*d.values()))\n",
    "    # print(config)\n",
    "    print(angle2pix(config.display, 20))\n",
    "    "
   ]
  },
  {
   "cell_type": "code",
   "execution_count": null,
   "metadata": {},
   "outputs": [],
   "source": []
  }
 ],
 "metadata": {
  "kernelspec": {
   "display_name": "Python 2",
   "language": "python",
   "name": "python2"
  },
  "language_info": {
   "codemirror_mode": {
    "name": "ipython",
    "version": 2
   },
   "file_extension": ".py",
   "mimetype": "text/x-python",
   "name": "python",
   "nbconvert_exporter": "python",
   "pygments_lexer": "ipython2",
   "version": "2.7.6"
  }
 },
 "nbformat": 4,
 "nbformat_minor": 0
}
